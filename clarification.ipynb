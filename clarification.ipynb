{
 "cells": [
  {
   "cell_type": "markdown",
   "metadata": {},
   "source": [
    "# Confusion Matrix Clarification\n",
    "\n",
    "- Which columns are actual vs. predicted w/ the confusion matrix?\n",
    "    - There is not a standard for which Columns/Rows are which. Different texts have different arrangements\n",
    "    - We'll see actual as the columns sometimes and rows other places.\n",
    "- Which is the positive case w/ the classification report?\n",
    "    - https://stackoverflow.com/questions/35178590/scikit-learn-confusion-matrix\n",
    "    - See https://scikit-learn.org/stable/modules/generated/sklearn.metrics.confusion_matrix.html\n",
    "    - See https://scikit-learn.org/stable/modules/generated/sklearn.metrics.classification_report.html"
   ]
  },
  {
   "cell_type": "markdown",
   "metadata": {},
   "source": [
    "|                        |                 Predicted Negative |                         Predicted Positive |\n",
    "| :--------------------- | ------------------------------: | --------------------------------------: |\n",
    "| **Actual Negative** |                   True Negative | False Positive, a Type I Error |\n",
    "| **Actual Positive** | False Negative, a Type II Error |                           True Positive |"
   ]
  },
  {
   "cell_type": "code",
   "execution_count": 1,
   "metadata": {},
   "outputs": [],
   "source": [
    "import pandas as pd\n",
    "from sklearn.metrics import classification_report\n",
    "from sklearn.metrics import confusion_matrix"
   ]
  },
  {
   "cell_type": "code",
   "execution_count": 2,
   "metadata": {},
   "outputs": [
    {
     "data": {
      "text/html": [
       "<div>\n",
       "<style scoped>\n",
       "    .dataframe tbody tr th:only-of-type {\n",
       "        vertical-align: middle;\n",
       "    }\n",
       "\n",
       "    .dataframe tbody tr th {\n",
       "        vertical-align: top;\n",
       "    }\n",
       "\n",
       "    .dataframe thead th {\n",
       "        text-align: right;\n",
       "    }\n",
       "</style>\n",
       "<table border=\"1\" class=\"dataframe\">\n",
       "  <thead>\n",
       "    <tr style=\"text-align: right;\">\n",
       "      <th>predicted</th>\n",
       "      <th>cat</th>\n",
       "      <th>dog</th>\n",
       "    </tr>\n",
       "    <tr>\n",
       "      <th>actual</th>\n",
       "      <th></th>\n",
       "      <th></th>\n",
       "    </tr>\n",
       "  </thead>\n",
       "  <tbody>\n",
       "    <tr>\n",
       "      <th>cat</th>\n",
       "      <td>3</td>\n",
       "      <td>2</td>\n",
       "    </tr>\n",
       "    <tr>\n",
       "      <th>dog</th>\n",
       "      <td>1</td>\n",
       "      <td>4</td>\n",
       "    </tr>\n",
       "  </tbody>\n",
       "</table>\n",
       "</div>"
      ],
      "text/plain": [
       "predicted  cat  dog\n",
       "actual             \n",
       "cat          3    2\n",
       "dog          1    4"
      ]
     },
     "execution_count": 2,
     "metadata": {},
     "output_type": "execute_result"
    }
   ],
   "source": [
    "pets = pd.DataFrame()\n",
    "pets[\"actual\"] =    [\"dog\", \"dog\", \"dog\", \"dog\", \"dog\", \"cat\", \"cat\", \"cat\", \"cat\", \"cat\"]\n",
    "pets[\"predicted\"] = [\"dog\", \"dog\", \"dog\", \"dog\", \"cat\", \"cat\", \"cat\", \"cat\", \"dog\", \"dog\"]\n",
    "\n",
    "# If we use actual as the 1st argument to crosstab, this will match the sklearn confusion_matrix output\n",
    "# Set rows to \"actual\", columns to \"predictions\"\n",
    "pd.crosstab(pets.actual, pets.predicted)"
   ]
  },
  {
   "cell_type": "code",
   "execution_count": 3,
   "metadata": {},
   "outputs": [
    {
     "data": {
      "text/html": [
       "<div>\n",
       "<style scoped>\n",
       "    .dataframe tbody tr th:only-of-type {\n",
       "        vertical-align: middle;\n",
       "    }\n",
       "\n",
       "    .dataframe tbody tr th {\n",
       "        vertical-align: top;\n",
       "    }\n",
       "\n",
       "    .dataframe thead th {\n",
       "        text-align: right;\n",
       "    }\n",
       "</style>\n",
       "<table border=\"1\" class=\"dataframe\">\n",
       "  <thead>\n",
       "    <tr style=\"text-align: right;\">\n",
       "      <th>predicted</th>\n",
       "      <th>0</th>\n",
       "      <th>1</th>\n",
       "    </tr>\n",
       "    <tr>\n",
       "      <th>actual</th>\n",
       "      <th></th>\n",
       "      <th></th>\n",
       "    </tr>\n",
       "  </thead>\n",
       "  <tbody>\n",
       "    <tr>\n",
       "      <th>0</th>\n",
       "      <td>3</td>\n",
       "      <td>2</td>\n",
       "    </tr>\n",
       "    <tr>\n",
       "      <th>1</th>\n",
       "      <td>1</td>\n",
       "      <td>4</td>\n",
       "    </tr>\n",
       "  </tbody>\n",
       "</table>\n",
       "</div>"
      ],
      "text/plain": [
       "predicted  0  1\n",
       "actual         \n",
       "0          3  2\n",
       "1          1  4"
      ]
     },
     "execution_count": 3,
     "metadata": {},
     "output_type": "execute_result"
    }
   ],
   "source": [
    "# Same data where 1 = \"dog\"\n",
    "df = pd.DataFrame()\n",
    "\n",
    "df[\"actual\"] =    [1, 1, 1, 1, 1, 0, 0, 0, 0, 0]\n",
    "df[\"predicted\"] = [1, 1, 1, 1, 0, 0, 0, 0, 1, 1]\n",
    "\n",
    "# pandas crosstabulation\n",
    "pd.crosstab(df.actual, df.predicted)"
   ]
  },
  {
   "cell_type": "markdown",
   "metadata": {},
   "source": [
    "## Takeaways from pd.crosstab\n",
    "- The pd.crosstab output puts both rows and columns in alpha-numeric order...\n",
    "- If 1 is positive and 0 is negative, then \n",
    "    - True Positives = 4\n",
    "    - False Negatives = 1\n",
    "    - False Positive = 2\n",
    "    - True Negatives = 3"
   ]
  },
  {
   "cell_type": "markdown",
   "metadata": {},
   "source": [
    "## Let's use the `confusion_matrix` function\n",
    "- Send in the actual data as the 1st argument, prediction as 2nd\n",
    "- Predictions are columns, Actuals are rows."
   ]
  },
  {
   "cell_type": "code",
   "execution_count": 4,
   "metadata": {},
   "outputs": [
    {
     "data": {
      "text/html": [
       "<div>\n",
       "<style scoped>\n",
       "    .dataframe tbody tr th:only-of-type {\n",
       "        vertical-align: middle;\n",
       "    }\n",
       "\n",
       "    .dataframe tbody tr th {\n",
       "        vertical-align: top;\n",
       "    }\n",
       "\n",
       "    .dataframe thead th {\n",
       "        text-align: right;\n",
       "    }\n",
       "</style>\n",
       "<table border=\"1\" class=\"dataframe\">\n",
       "  <thead>\n",
       "    <tr style=\"text-align: right;\">\n",
       "      <th></th>\n",
       "      <th>Predict 0</th>\n",
       "      <th>Predict 1</th>\n",
       "    </tr>\n",
       "  </thead>\n",
       "  <tbody>\n",
       "    <tr>\n",
       "      <th>Actual 0</th>\n",
       "      <td>3</td>\n",
       "      <td>2</td>\n",
       "    </tr>\n",
       "    <tr>\n",
       "      <th>Actual 1</th>\n",
       "      <td>1</td>\n",
       "      <td>4</td>\n",
       "    </tr>\n",
       "  </tbody>\n",
       "</table>\n",
       "</div>"
      ],
      "text/plain": [
       "          Predict 0  Predict 1\n",
       "Actual 0          3          2\n",
       "Actual 1          1          4"
      ]
     },
     "execution_count": 4,
     "metadata": {},
     "output_type": "execute_result"
    }
   ],
   "source": [
    "# The actual goes as the first argument, the prediction as the second\n",
    "# Notice that the axes are backwards from the crosstabulation above...\n",
    "x = pd.DataFrame(confusion_matrix(df.actual, df.predicted))\n",
    "x.columns = [\"Predict 0\", \"Predict 1\"]\n",
    "x.index = [\"Actual 0\", \"Actual 1\"]\n",
    "x"
   ]
  },
  {
   "cell_type": "code",
   "execution_count": 5,
   "metadata": {
    "scrolled": true
   },
   "outputs": [
    {
     "name": "stdout",
     "output_type": "stream",
     "text": [
      "True Positives 4\n",
      "False Positives 2\n",
      "False Negatives 1\n",
      "True Negatives 3\n",
      "-------------\n",
      "Accuracy is 0.7\n",
      "Recall is 0.8\n",
      "Precision is 0.6666666666666666\n"
     ]
    }
   ],
   "source": [
    "# Is there an assignment of what's positive from the function itself?\n",
    "# This example is from https://scikit-learn.org/stable/modules/generated/sklearn.metrics.confusion_matrix.html\n",
    "\n",
    "# It's treating 1 as the positive case and 0 as the negative case (which is a nice default)\n",
    "tn, fp, fn, tp = confusion_matrix(df.actual, df.predicted).ravel()\n",
    "\n",
    "print(\"True Positives\", tp)\n",
    "print(\"False Positives\", fp)\n",
    "print(\"False Negatives\", fn)\n",
    "print(\"True Negatives\", tn)\n",
    "\n",
    "print(\"-------------\")\n",
    "\n",
    "accuracy = (tp + tn) / (tp + tn + fp + fn)\n",
    "recall = tp / (tp + fn)\n",
    "precision = tp / (tp + fp)\n",
    "\n",
    "print(\"Accuracy is\", accuracy)\n",
    "print(\"Recall is\", recall)\n",
    "print(\"Precision is\", precision)"
   ]
  },
  {
   "cell_type": "code",
   "execution_count": 6,
   "metadata": {},
   "outputs": [
    {
     "name": "stdout",
     "output_type": "stream",
     "text": [
      "True Positives 4\n",
      "False Positives 2\n",
      "False Negatives 1\n",
      "True Negatives 3\n",
      "-------------\n",
      "Accuracy is 0.7\n",
      "Recall is 0.8\n",
      "Precision is 0.6666666666666666\n"
     ]
    }
   ],
   "source": [
    "# Manual accounting\n",
    "# If we set the positive case as 1 then:\n",
    "tp = 4\n",
    "tn = 3\n",
    "fp = 2\n",
    "fn = 1\n",
    "\n",
    "print(\"True Positives\", tp)\n",
    "print(\"False Positives\", fp)\n",
    "print(\"False Negatives\", fn)\n",
    "print(\"True Negatives\", tn)\n",
    "print(\"-------------\")\n",
    "\n",
    "accuracy = (tp + tn) / (tp + tn + fp + fn)\n",
    "recall = tp / (tp + fn)\n",
    "precision = tp / (tp + fp)\n",
    "\n",
    "print(\"Accuracy is\", accuracy)\n",
    "print(\"Recall is\", recall)\n",
    "print(\"Precision is\", precision)"
   ]
  },
  {
   "cell_type": "code",
   "execution_count": 7,
   "metadata": {},
   "outputs": [
    {
     "name": "stdout",
     "output_type": "stream",
     "text": [
      "              precision    recall  f1-score   support\n",
      "\n",
      "           0       0.75      0.60      0.67         5\n",
      "           1       0.67      0.80      0.73         5\n",
      "\n",
      "    accuracy                           0.70        10\n",
      "   macro avg       0.71      0.70      0.70        10\n",
      "weighted avg       0.71      0.70      0.70        10\n",
      "\n"
     ]
    }
   ],
   "source": [
    "# first argument into classification_report function AND confusion_matrix function is the actual\n",
    "# second argument is the prediction\n",
    "print(classification_report(df.actual, df.predicted))"
   ]
  },
  {
   "cell_type": "markdown",
   "metadata": {},
   "source": [
    "# Takeaways\n",
    "- Accuracy doesn't care what your \"positive\" is... b/c the numerator is TP + TN.\n",
    "- The classification report row of \"0\" means treating zero as our \"positive prediction\"\n",
    "- The classification report row of \"1\" means treating 1 as our \"positive prediction\"\n",
    "- `tn, fp, fn, tp = confusion_matrix(df.actual, df.predicted).ravel()` works nicely if we have a binary classification.\n",
    "- Unless otherwise specified, the confusion_matrix function sets:\n",
    "    - Rows as actual\n",
    "    - Columns as predictions"
   ]
  }
 ],
 "metadata": {
  "kernelspec": {
   "display_name": "Python 3",
   "language": "python",
   "name": "python3"
  },
  "language_info": {
   "codemirror_mode": {
    "name": "ipython",
    "version": 3
   },
   "file_extension": ".py",
   "mimetype": "text/x-python",
   "name": "python",
   "nbconvert_exporter": "python",
   "pygments_lexer": "ipython3",
   "version": "3.7.3"
  }
 },
 "nbformat": 4,
 "nbformat_minor": 4
}
