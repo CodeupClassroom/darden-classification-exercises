{
 "cells": [
  {
   "cell_type": "code",
   "execution_count": 1,
   "metadata": {},
   "outputs": [],
   "source": [
    "import numpy as np\n",
    "import os\n",
    "import pandas as pd"
   ]
  },
  {
   "cell_type": "markdown",
   "metadata": {},
   "source": [
    "# Acquire Some Cache\n",
    "\n",
    "- \"Flushing the cache\" means to remove the old cached version and make a new one.\n",
    "- FYI: The fruits table had a new record added on 2020-09-08.\n",
    "\n",
    "## Orientation\n",
    "- The first way shows a direct path to making a cached copy of query results\n",
    "- The second way shows how to give the calling code some control over flushing the cache\n",
    "- The 3rd way shows how to flush a cache on a condition\n",
    "- The 4th way shows how to compare the modification dates of the DB table and the CSV file and automatically decide\n",
    "\n",
    "![CacheAcquire](https://raw.githubusercontent.com/CodeupClassroom/darden-classification-exercises/master/viz/acquire_with_cache.svg)"
   ]
  },
  {
   "cell_type": "code",
   "execution_count": 2,
   "metadata": {},
   "outputs": [],
   "source": [
    "# Helper Function\n",
    "from env import get_url"
   ]
  },
  {
   "cell_type": "markdown",
   "metadata": {},
   "source": [
    "## Simple Caching Example\n",
    "- Make one single acquisition function \n",
    "- If you need to refresh the data, delete the cached copy from your filesystem"
   ]
  },
  {
   "cell_type": "code",
   "execution_count": 3,
   "metadata": {},
   "outputs": [],
   "source": [
    "def get_data_from_csv(filename):\n",
    "    return pd.read_csv(filename)"
   ]
  },
  {
   "cell_type": "code",
   "execution_count": 4,
   "metadata": {},
   "outputs": [],
   "source": [
    "def get_data_from_sql(filename):\n",
    "    \"\"\"Queries the fruits_db to make a dataframe, writes the dataframe, and returns the datafram\"\"\"\n",
    "    \n",
    "    sql = \"\"\"SELECT * FROM fruits\"\"\"\n",
    "    url = get_url(\"fruits_db\")\n",
    "    \n",
    "    df = pd.read_sql(sql, url)\n",
    "    df.to_csv(filename)\n",
    "    return df"
   ]
  },
  {
   "cell_type": "code",
   "execution_count": 5,
   "metadata": {},
   "outputs": [],
   "source": [
    "def get_fruit_data1():\n",
    "    \"\"\"\n",
    "    Returns a dataframe of fruits\n",
    "    Reads from fruits.csv file if file exists\n",
    "    If fruits.csv file does not exist, this function creates it, then returns the dataframe of fruits\n",
    "    \"\"\"\n",
    "    \n",
    "    filename = \"fruits.csv\"\n",
    "\n",
    "    if os.path.isfile(filename):\n",
    "        return get_data_from_csv(filename)\n",
    "    else:\n",
    "        return get_data_from_sql(filename)"
   ]
  },
  {
   "cell_type": "code",
   "execution_count": 6,
   "metadata": {},
   "outputs": [
    {
     "data": {
      "text/html": [
       "<div>\n",
       "<style scoped>\n",
       "    .dataframe tbody tr th:only-of-type {\n",
       "        vertical-align: middle;\n",
       "    }\n",
       "\n",
       "    .dataframe tbody tr th {\n",
       "        vertical-align: top;\n",
       "    }\n",
       "\n",
       "    .dataframe thead th {\n",
       "        text-align: right;\n",
       "    }\n",
       "</style>\n",
       "<table border=\"1\" class=\"dataframe\">\n",
       "  <thead>\n",
       "    <tr style=\"text-align: right;\">\n",
       "      <th></th>\n",
       "      <th>Unnamed: 0</th>\n",
       "      <th>id</th>\n",
       "      <th>name</th>\n",
       "      <th>quantity</th>\n",
       "    </tr>\n",
       "  </thead>\n",
       "  <tbody>\n",
       "    <tr>\n",
       "      <th>0</th>\n",
       "      <td>0</td>\n",
       "      <td>1</td>\n",
       "      <td>apple</td>\n",
       "      <td>3</td>\n",
       "    </tr>\n",
       "    <tr>\n",
       "      <th>1</th>\n",
       "      <td>1</td>\n",
       "      <td>2</td>\n",
       "      <td>banana</td>\n",
       "      <td>4</td>\n",
       "    </tr>\n",
       "    <tr>\n",
       "      <th>2</th>\n",
       "      <td>2</td>\n",
       "      <td>3</td>\n",
       "      <td>cantelope</td>\n",
       "      <td>16</td>\n",
       "    </tr>\n",
       "    <tr>\n",
       "      <th>3</th>\n",
       "      <td>3</td>\n",
       "      <td>4</td>\n",
       "      <td>dragonfruit</td>\n",
       "      <td>1</td>\n",
       "    </tr>\n",
       "    <tr>\n",
       "      <th>4</th>\n",
       "      <td>4</td>\n",
       "      <td>5</td>\n",
       "      <td>elderberry</td>\n",
       "      <td>2</td>\n",
       "    </tr>\n",
       "  </tbody>\n",
       "</table>\n",
       "</div>"
      ],
      "text/plain": [
       "   Unnamed: 0  id         name  quantity\n",
       "0           0   1        apple         3\n",
       "1           1   2       banana         4\n",
       "2           2   3    cantelope        16\n",
       "3           3   4  dragonfruit         1\n",
       "4           4   5   elderberry         2"
      ]
     },
     "execution_count": 6,
     "metadata": {},
     "output_type": "execute_result"
    }
   ],
   "source": [
    "df = get_fruit_data1()\n",
    "df.head()"
   ]
  },
  {
   "cell_type": "markdown",
   "metadata": {},
   "source": [
    "## Give the Calling Code the Opportunity to Flush the Cache\n",
    "- The use of the default argument for `flush` gives the calling code the opportunity to flush the cache"
   ]
  },
  {
   "cell_type": "code",
   "execution_count": 7,
   "metadata": {},
   "outputs": [],
   "source": [
    "def get_fruit_data2(flush=False):\n",
    "    \"\"\"\n",
    "    Returns a dataframe of fruits.\n",
    "    To flush the cache and make a new file, set flush = True.\n",
    "    If flush is false, this returns the cached copy.\n",
    "    If flush is True, this makes the query, writes the csv results, and returns the dataframe\n",
    "    If fruits.csv file does not exist, this function creates it, then returns the dataframe of fruits\n",
    "    \"\"\"\n",
    "        \n",
    "    filename = \"fruits.csv\"\n",
    "    \n",
    "    # If the filename doesn't exist or if we're flushing, then \n",
    "    if flush or os.path.isfile(filename) == False:\n",
    "        return get_data_from_sql(filename)\n",
    "    else:\n",
    "        return get_data_from_csv(filename)\n"
   ]
  },
  {
   "cell_type": "code",
   "execution_count": 8,
   "metadata": {},
   "outputs": [
    {
     "name": "stdout",
     "output_type": "stream",
     "text": [
      "1.98 ms ± 347 µs per loop (mean ± std. dev. of 7 runs, 100 loops each)\n"
     ]
    }
   ],
   "source": [
    "# How long does it take to run the query from cache\n",
    "%timeit get_fruit_data2()"
   ]
  },
  {
   "cell_type": "code",
   "execution_count": 9,
   "metadata": {},
   "outputs": [
    {
     "name": "stdout",
     "output_type": "stream",
     "text": [
      "1.01 s ± 56.1 ms per loop (mean ± std. dev. of 7 runs, 1 loop each)\n"
     ]
    }
   ],
   "source": [
    "# How long does it take to run the entire query\n",
    "%timeit get_fruit_data2(flush=True)"
   ]
  },
  {
   "cell_type": "markdown",
   "metadata": {},
   "source": [
    "## Flush the cache and make a new copy on a condition\n",
    "- For example, if we want to flush the cache (and get a new copy) after a given number of days or a specific theshold, consider the following:"
   ]
  },
  {
   "cell_type": "code",
   "execution_count": 10,
   "metadata": {},
   "outputs": [
    {
     "data": {
      "text/html": [
       "<div>\n",
       "<style scoped>\n",
       "    .dataframe tbody tr th:only-of-type {\n",
       "        vertical-align: middle;\n",
       "    }\n",
       "\n",
       "    .dataframe tbody tr th {\n",
       "        vertical-align: top;\n",
       "    }\n",
       "\n",
       "    .dataframe thead th {\n",
       "        text-align: right;\n",
       "    }\n",
       "</style>\n",
       "<table border=\"1\" class=\"dataframe\">\n",
       "  <thead>\n",
       "    <tr style=\"text-align: right;\">\n",
       "      <th></th>\n",
       "      <th>days_since_update</th>\n",
       "    </tr>\n",
       "  </thead>\n",
       "  <tbody>\n",
       "    <tr>\n",
       "      <th>0</th>\n",
       "      <td>2</td>\n",
       "    </tr>\n",
       "  </tbody>\n",
       "</table>\n",
       "</div>"
      ],
      "text/plain": [
       "   days_since_update\n",
       "0                  2"
      ]
     },
     "execution_count": 10,
     "metadata": {},
     "output_type": "execute_result"
    }
   ],
   "source": [
    "# This SQL outputs the number of days since the last update to the table (or a database) \n",
    "# We can get the creation time of the table, too\n",
    "\n",
    "sql = \"\"\"\n",
    "select datediff(curdate(), update_time) as `days_since_update`\n",
    "from information_schema.tables\n",
    "where table_schema = \"fruits_db\"\n",
    "and table_name = \"fruits\";\n",
    "\"\"\"\n",
    "url = get_url(\"fruits_db\")\n",
    "\n",
    "df = pd.read_sql(sql, url)\n",
    "df"
   ]
  },
  {
   "cell_type": "code",
   "execution_count": 11,
   "metadata": {},
   "outputs": [],
   "source": [
    "def get_days_since_last_update():\n",
    "    sql = \"\"\"\n",
    "    select datediff(curdate(), update_time) as `days_since_update`, datediff(curdate(), create_time) as `days_since_creation`\n",
    "    from information_schema.tables\n",
    "    where table_schema = \"fruits_db\"\n",
    "    and table_name = \"fruits\";\n",
    "    \"\"\"\n",
    "    url = get_url(\"fruits_db\")\n",
    "\n",
    "    df = pd.read_sql(sql, url)\n",
    "    df = df.fillna(value=np.nan)\n",
    "\n",
    "    return df.days_since_update[0]"
   ]
  },
  {
   "cell_type": "code",
   "execution_count": 12,
   "metadata": {},
   "outputs": [],
   "source": [
    "def get_fruit_data3(flush=False, days_threshold=7):\n",
    "\n",
    "    filename = \"fruits.csv\"\n",
    "\n",
    "    days_since_last_update = get_days_since_last_update()\n",
    "\n",
    "    # If The number of days since last update is longer than the threshold argument, \n",
    "    # Set flush to True and then we'll blow out the old copy and refresh the cache.\n",
    "    if days_since_last_update > days_threshold:\n",
    "        flush = True\n",
    "\n",
    "    if flush or os.path.isfile(filename) == False:\n",
    "        return get_data_from_sql(filename)\n",
    "    else:\n",
    "        return get_data_from_csv(filename)"
   ]
  },
  {
   "cell_type": "code",
   "execution_count": 13,
   "metadata": {},
   "outputs": [
    {
     "data": {
      "text/html": [
       "<div>\n",
       "<style scoped>\n",
       "    .dataframe tbody tr th:only-of-type {\n",
       "        vertical-align: middle;\n",
       "    }\n",
       "\n",
       "    .dataframe tbody tr th {\n",
       "        vertical-align: top;\n",
       "    }\n",
       "\n",
       "    .dataframe thead th {\n",
       "        text-align: right;\n",
       "    }\n",
       "</style>\n",
       "<table border=\"1\" class=\"dataframe\">\n",
       "  <thead>\n",
       "    <tr style=\"text-align: right;\">\n",
       "      <th></th>\n",
       "      <th>Unnamed: 0</th>\n",
       "      <th>id</th>\n",
       "      <th>name</th>\n",
       "      <th>quantity</th>\n",
       "    </tr>\n",
       "  </thead>\n",
       "  <tbody>\n",
       "    <tr>\n",
       "      <th>0</th>\n",
       "      <td>0</td>\n",
       "      <td>1</td>\n",
       "      <td>apple</td>\n",
       "      <td>3</td>\n",
       "    </tr>\n",
       "    <tr>\n",
       "      <th>1</th>\n",
       "      <td>1</td>\n",
       "      <td>2</td>\n",
       "      <td>banana</td>\n",
       "      <td>4</td>\n",
       "    </tr>\n",
       "    <tr>\n",
       "      <th>2</th>\n",
       "      <td>2</td>\n",
       "      <td>3</td>\n",
       "      <td>cantelope</td>\n",
       "      <td>16</td>\n",
       "    </tr>\n",
       "    <tr>\n",
       "      <th>3</th>\n",
       "      <td>3</td>\n",
       "      <td>4</td>\n",
       "      <td>dragonfruit</td>\n",
       "      <td>1</td>\n",
       "    </tr>\n",
       "    <tr>\n",
       "      <th>4</th>\n",
       "      <td>4</td>\n",
       "      <td>5</td>\n",
       "      <td>elderberry</td>\n",
       "      <td>2</td>\n",
       "    </tr>\n",
       "  </tbody>\n",
       "</table>\n",
       "</div>"
      ],
      "text/plain": [
       "   Unnamed: 0  id         name  quantity\n",
       "0           0   1        apple         3\n",
       "1           1   2       banana         4\n",
       "2           2   3    cantelope        16\n",
       "3           3   4  dragonfruit         1\n",
       "4           4   5   elderberry         2"
      ]
     },
     "execution_count": 13,
     "metadata": {},
     "output_type": "execute_result"
    }
   ],
   "source": [
    "df = get_fruit_data3()\n",
    "df.head()"
   ]
  },
  {
   "cell_type": "markdown",
   "metadata": {},
   "source": [
    "## Flush the Cache Based On Modification Dates of the table and your file\n",
    "- If the table was updated more recently than your file, then flush the cache and get a new copy"
   ]
  },
  {
   "cell_type": "code",
   "execution_count": 14,
   "metadata": {},
   "outputs": [
    {
     "data": {
      "text/plain": [
       "'2020-09-10 19:10:59'"
      ]
     },
     "execution_count": 14,
     "metadata": {},
     "output_type": "execute_result"
    }
   ],
   "source": [
    "import time\n",
    "\n",
    "def get_filename_modification_date(filename):\n",
    "    # seconds since unix epoch time\n",
    "    modification_time_since_epoch = os.path.getmtime(filename)\n",
    "    \n",
    "    # convert those seconds into a timestamp (and set the timezone to GMT)\n",
    "    modification_timestamp = time.strftime('%Y-%m-%d %H:%M:%S', time.gmtime(modification_time_since_epoch))\n",
    "    return modification_timestamp\n",
    "\n",
    "get_filename_modification_date(\"fruits.csv\")"
   ]
  },
  {
   "cell_type": "code",
   "execution_count": 15,
   "metadata": {},
   "outputs": [
    {
     "data": {
      "text/html": [
       "<div>\n",
       "<style scoped>\n",
       "    .dataframe tbody tr th:only-of-type {\n",
       "        vertical-align: middle;\n",
       "    }\n",
       "\n",
       "    .dataframe tbody tr th {\n",
       "        vertical-align: top;\n",
       "    }\n",
       "\n",
       "    .dataframe thead th {\n",
       "        text-align: right;\n",
       "    }\n",
       "</style>\n",
       "<table border=\"1\" class=\"dataframe\">\n",
       "  <thead>\n",
       "    <tr style=\"text-align: right;\">\n",
       "      <th></th>\n",
       "      <th>table_updated_at</th>\n",
       "      <th>file_updated_at</th>\n",
       "    </tr>\n",
       "  </thead>\n",
       "  <tbody>\n",
       "    <tr>\n",
       "      <th>0</th>\n",
       "      <td>2020-09-08 20:52:04</td>\n",
       "      <td>2020-09-10 19:10:59</td>\n",
       "    </tr>\n",
       "  </tbody>\n",
       "</table>\n",
       "</div>"
      ],
      "text/plain": [
       "     table_updated_at     file_updated_at\n",
       "0 2020-09-08 20:52:04 2020-09-10 19:10:59"
      ]
     },
     "execution_count": 15,
     "metadata": {},
     "output_type": "execute_result"
    }
   ],
   "source": [
    "def get_both_modification_dates(filename):\n",
    "\n",
    "    sql = \"\"\"\n",
    "        select update_time as table_updated_at\n",
    "        from information_schema.tables\n",
    "        where table_schema = \"fruits_db\"\n",
    "        and table_name = \"fruits\";\n",
    "        \"\"\"\n",
    "    url = get_url(\"fruits_db\")\n",
    "    df = pd.read_sql(sql, url)\n",
    "    \n",
    "    df[\"file_updated_at\"] = pd.to_datetime(get_filename_modification_date(filename))\n",
    "\n",
    "    return df\n",
    "\n",
    "# Check out the results manually\n",
    "get_both_modification_dates(\"fruits.csv\")"
   ]
  },
  {
   "cell_type": "code",
   "execution_count": 16,
   "metadata": {},
   "outputs": [],
   "source": [
    "def get_fruit_data4(flush = False):\n",
    "    filename = \"fruits.csv\"    \n",
    "    \n",
    "    time_df = get_both_modification_dates(filename)\n",
    "    \n",
    "    # If the DB table's update is newer than the file, then it's time to renew.\n",
    "    flush = time_df.table_updated_at[0] > time_df.file_updated_at[0]\n",
    "    \n",
    "    if flush or os.path.isfile(filename) == False:\n",
    "        return get_data_from_sql(filename)\n",
    "    else:\n",
    "        return get_data_from_csv(filename)    "
   ]
  },
  {
   "cell_type": "code",
   "execution_count": 17,
   "metadata": {},
   "outputs": [
    {
     "data": {
      "text/html": [
       "<div>\n",
       "<style scoped>\n",
       "    .dataframe tbody tr th:only-of-type {\n",
       "        vertical-align: middle;\n",
       "    }\n",
       "\n",
       "    .dataframe tbody tr th {\n",
       "        vertical-align: top;\n",
       "    }\n",
       "\n",
       "    .dataframe thead th {\n",
       "        text-align: right;\n",
       "    }\n",
       "</style>\n",
       "<table border=\"1\" class=\"dataframe\">\n",
       "  <thead>\n",
       "    <tr style=\"text-align: right;\">\n",
       "      <th></th>\n",
       "      <th>Unnamed: 0</th>\n",
       "      <th>id</th>\n",
       "      <th>name</th>\n",
       "      <th>quantity</th>\n",
       "    </tr>\n",
       "  </thead>\n",
       "  <tbody>\n",
       "    <tr>\n",
       "      <th>0</th>\n",
       "      <td>0</td>\n",
       "      <td>1</td>\n",
       "      <td>apple</td>\n",
       "      <td>3</td>\n",
       "    </tr>\n",
       "    <tr>\n",
       "      <th>1</th>\n",
       "      <td>1</td>\n",
       "      <td>2</td>\n",
       "      <td>banana</td>\n",
       "      <td>4</td>\n",
       "    </tr>\n",
       "    <tr>\n",
       "      <th>2</th>\n",
       "      <td>2</td>\n",
       "      <td>3</td>\n",
       "      <td>cantelope</td>\n",
       "      <td>16</td>\n",
       "    </tr>\n",
       "    <tr>\n",
       "      <th>3</th>\n",
       "      <td>3</td>\n",
       "      <td>4</td>\n",
       "      <td>dragonfruit</td>\n",
       "      <td>1</td>\n",
       "    </tr>\n",
       "    <tr>\n",
       "      <th>4</th>\n",
       "      <td>4</td>\n",
       "      <td>5</td>\n",
       "      <td>elderberry</td>\n",
       "      <td>2</td>\n",
       "    </tr>\n",
       "    <tr>\n",
       "      <th>5</th>\n",
       "      <td>5</td>\n",
       "      <td>6</td>\n",
       "      <td>mango</td>\n",
       "      <td>57</td>\n",
       "    </tr>\n",
       "  </tbody>\n",
       "</table>\n",
       "</div>"
      ],
      "text/plain": [
       "   Unnamed: 0  id         name  quantity\n",
       "0           0   1        apple         3\n",
       "1           1   2       banana         4\n",
       "2           2   3    cantelope        16\n",
       "3           3   4  dragonfruit         1\n",
       "4           4   5   elderberry         2\n",
       "5           5   6        mango        57"
      ]
     },
     "execution_count": 17,
     "metadata": {},
     "output_type": "execute_result"
    }
   ],
   "source": [
    "fruits = get_fruit_data4()\n",
    "fruits"
   ]
  },
  {
   "cell_type": "code",
   "execution_count": null,
   "metadata": {},
   "outputs": [],
   "source": []
  }
 ],
 "metadata": {
  "kernelspec": {
   "display_name": "Python 3",
   "language": "python",
   "name": "python3"
  },
  "language_info": {
   "codemirror_mode": {
    "name": "ipython",
    "version": 3
   },
   "file_extension": ".py",
   "mimetype": "text/x-python",
   "name": "python",
   "nbconvert_exporter": "python",
   "pygments_lexer": "ipython3",
   "version": "3.6.8"
  }
 },
 "nbformat": 4,
 "nbformat_minor": 4
}
