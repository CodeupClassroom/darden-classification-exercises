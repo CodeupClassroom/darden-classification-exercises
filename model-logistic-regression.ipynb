{
 "cells": [
  {
   "cell_type": "markdown",
   "metadata": {},
   "source": [
    "Age & grades completed & degree"
   ]
  },
  {
   "cell_type": "code",
   "execution_count": 2,
   "metadata": {},
   "outputs": [],
   "source": [
    "import numpy as np\n",
    "import pandas as pd\n",
    "import seaborn as sns\n",
    "import matplotlib.pyplot as plt\n",
    "import statsmodels.formula.api as smf\n",
    "\n",
    "from sklearn.metrics import accuracy_score, precision_score, recall_score, confusion_matrix, classification_report\n",
    "from sklearn.model_selection import train_test_split\n",
    "from sklearn.linear_model import LogisticRegression, LinearRegression"
   ]
  },
  {
   "cell_type": "code",
   "execution_count": null,
   "metadata": {},
   "outputs": [],
   "source": [
    "# create new dataframe\n",
    "age = list(range(5,30))\n",
    "grade = list(range(0, 21))\n",
    "grade.extend([20, 20, 20, 20])\n",
    "len(grade) == len(age)\n",
    "\n",
    "df = pd.DataFrame({'age': age, 'grade': grade})"
   ]
  },
  {
   "cell_type": "markdown",
   "metadata": {},
   "source": [
    "As an example, let's build a linear regression to explore what coefficients mean. \n",
    "\n",
    "Step 1: `LinearRegression()` \n",
    "\n",
    "Give the algorithm my requirements. \n"
   ]
  },
  {
   "cell_type": "code",
   "execution_count": null,
   "metadata": {},
   "outputs": [],
   "source": [
    "lm = LinearRegression(fit_intercept=False)"
   ]
  },
  {
   "cell_type": "markdown",
   "metadata": {},
   "source": [
    "Step 2. `my_linear_model.fit(X_train, y_train)`\n",
    "\n",
    "The algorithm will then identify the parameters or rules that are specific to my training data with respect to my requirements. It optimizes a function in order to identify what the weights of each independent variables, or feature, should be. These weights are the coefficients for each X and the intercept (if fit_intercept = True)"
   ]
  },
  {
   "cell_type": "code",
   "execution_count": null,
   "metadata": {},
   "outputs": [],
   "source": [
    "lm.fit(df[['age']], df[['grade']])"
   ]
  },
  {
   "cell_type": "markdown",
   "metadata": {},
   "source": [
    "What is returned are the parameters that will be used when running the model on X values to predict y values. "
   ]
  },
  {
   "cell_type": "code",
   "execution_count": null,
   "metadata": {},
   "outputs": [],
   "source": [
    "print(\"predicted_grade = \", lm.intercept_, \" + \", lm.coef_[0][0], \"* age\")"
   ]
  },
  {
   "cell_type": "code",
   "execution_count": null,
   "metadata": {},
   "outputs": [],
   "source": [
    "predicted_grade = lm.predict(df[['age']])"
   ]
  },
  {
   "cell_type": "code",
   "execution_count": null,
   "metadata": {},
   "outputs": [],
   "source": [
    "plt.scatter(df.age, df.grade, label='actual grade')\n",
    "plt.scatter(df.age, predicted_grade, label='predicted grade')\n",
    "plt.legend()\n",
    "plt.xlabel('age')\n",
    "plt.ylabel('grade')\n",
    "plt.title('Can we use age to predict grade?')"
   ]
  },
  {
   "cell_type": "markdown",
   "metadata": {},
   "source": [
    "Let's create a categorical target variable and use logistic regression. \n",
    "Let's predict if the people in our study have completed High School. "
   ]
  },
  {
   "cell_type": "code",
   "execution_count": null,
   "metadata": {},
   "outputs": [],
   "source": [
    "# create a class target variable:  completed_HS = target = y\n",
    "\n",
    "df['completed_hs'] = df.grade > 12"
   ]
  },
  {
   "cell_type": "code",
   "execution_count": null,
   "metadata": {},
   "outputs": [],
   "source": [
    "# establish baseline\n",
    "\n",
    "df.completed_hs.value_counts(normalize=True)"
   ]
  },
  {
   "cell_type": "code",
   "execution_count": null,
   "metadata": {},
   "outputs": [],
   "source": [
    "# create model object with hyperparameters: LogisticRegression \n",
    "\n",
    "\n",
    "help(LogisticRegression)"
   ]
  },
  {
   "cell_type": "code",
   "execution_count": null,
   "metadata": {},
   "outputs": [],
   "source": [
    "logit = LogisticRegression(C=1.0, fit_intercept=True, intercept_scaling=1, \n",
    "                   class_weight={False: 1, True: 99}, \n",
    "                  random_state=123, solver='liblinear')\n",
    "\n"
   ]
  },
  {
   "cell_type": "code",
   "execution_count": null,
   "metadata": {},
   "outputs": [],
   "source": [
    "logit = logit.fit(df[['age']], df['completed_hs'])"
   ]
  },
  {
   "cell_type": "code",
   "execution_count": null,
   "metadata": {},
   "outputs": [],
   "source": [
    "y_pred = logit.predict(df[['age']])\n",
    "y_pred_proba = logit.predict_proba(df[['age']])\n",
    "\n"
   ]
  },
  {
   "cell_type": "code",
   "execution_count": null,
   "metadata": {},
   "outputs": [],
   "source": [
    "logit.coef_"
   ]
  },
  {
   "cell_type": "code",
   "execution_count": null,
   "metadata": {},
   "outputs": [],
   "source": [
    "logit.intercept_"
   ]
  },
  {
   "cell_type": "code",
   "execution_count": null,
   "metadata": {},
   "outputs": [],
   "source": [
    "logit.score(df[['age']], df.completed_hs)"
   ]
  },
  {
   "cell_type": "code",
   "execution_count": null,
   "metadata": {},
   "outputs": [],
   "source": [
    "confusion_matrix(df.completed_hs, y_pred)"
   ]
  },
  {
   "cell_type": "code",
   "execution_count": null,
   "metadata": {},
   "outputs": [],
   "source": [
    "print(classification_report(df.completed_hs, y_pred))"
   ]
  },
  {
   "cell_type": "markdown",
   "metadata": {},
   "source": [
    "## Logistic Regression Model\n",
    "\n",
    "Are there certain parties that are more/less likely to leave a poor tip? \n",
    "If so, should we try to win them over with our best service or not even try? \n",
    "We want to predict tips that are lower than 15% of the total bill. In doing so, we hope to see any attributes that are more likely to lead to lower tips. \n",
    "\n",
    "We were asked today to have an answer to this yesterday, so we will use rapid iteration to get a model that is \"better than baseline\" out the door!\n",
    "\n",
    "### Acquire"
   ]
  },
  {
   "cell_type": "code",
   "execution_count": 3,
   "metadata": {},
   "outputs": [],
   "source": [
    "# acquire (ok, kinda cheating there)\n",
    "tips = sns.load_dataset('tips')"
   ]
  },
  {
   "cell_type": "markdown",
   "metadata": {},
   "source": [
    "### Summarize\n",
    "\n",
    "- head(), tail()\n",
    "- info()\n",
    "- describe()\n",
    "- shape\n",
    "- value_counts()\n",
    "- isnull()\n",
    "- unique()"
   ]
  },
  {
   "cell_type": "code",
   "execution_count": 4,
   "metadata": {},
   "outputs": [
    {
     "data": {
      "text/plain": [
       "(244, 7)"
      ]
     },
     "execution_count": 4,
     "metadata": {},
     "output_type": "execute_result"
    }
   ],
   "source": [
    "tips.shape"
   ]
  },
  {
   "cell_type": "code",
   "execution_count": 5,
   "metadata": {},
   "outputs": [
    {
     "data": {
      "text/html": [
       "<div>\n",
       "<style scoped>\n",
       "    .dataframe tbody tr th:only-of-type {\n",
       "        vertical-align: middle;\n",
       "    }\n",
       "\n",
       "    .dataframe tbody tr th {\n",
       "        vertical-align: top;\n",
       "    }\n",
       "\n",
       "    .dataframe thead th {\n",
       "        text-align: right;\n",
       "    }\n",
       "</style>\n",
       "<table border=\"1\" class=\"dataframe\">\n",
       "  <thead>\n",
       "    <tr style=\"text-align: right;\">\n",
       "      <th></th>\n",
       "      <th>total_bill</th>\n",
       "      <th>tip</th>\n",
       "      <th>sex</th>\n",
       "      <th>smoker</th>\n",
       "      <th>day</th>\n",
       "      <th>time</th>\n",
       "      <th>size</th>\n",
       "    </tr>\n",
       "  </thead>\n",
       "  <tbody>\n",
       "    <tr>\n",
       "      <th>0</th>\n",
       "      <td>16.99</td>\n",
       "      <td>1.01</td>\n",
       "      <td>Female</td>\n",
       "      <td>No</td>\n",
       "      <td>Sun</td>\n",
       "      <td>Dinner</td>\n",
       "      <td>2</td>\n",
       "    </tr>\n",
       "    <tr>\n",
       "      <th>1</th>\n",
       "      <td>10.34</td>\n",
       "      <td>1.66</td>\n",
       "      <td>Male</td>\n",
       "      <td>No</td>\n",
       "      <td>Sun</td>\n",
       "      <td>Dinner</td>\n",
       "      <td>3</td>\n",
       "    </tr>\n",
       "    <tr>\n",
       "      <th>2</th>\n",
       "      <td>21.01</td>\n",
       "      <td>3.50</td>\n",
       "      <td>Male</td>\n",
       "      <td>No</td>\n",
       "      <td>Sun</td>\n",
       "      <td>Dinner</td>\n",
       "      <td>3</td>\n",
       "    </tr>\n",
       "    <tr>\n",
       "      <th>3</th>\n",
       "      <td>23.68</td>\n",
       "      <td>3.31</td>\n",
       "      <td>Male</td>\n",
       "      <td>No</td>\n",
       "      <td>Sun</td>\n",
       "      <td>Dinner</td>\n",
       "      <td>2</td>\n",
       "    </tr>\n",
       "    <tr>\n",
       "      <th>4</th>\n",
       "      <td>24.59</td>\n",
       "      <td>3.61</td>\n",
       "      <td>Female</td>\n",
       "      <td>No</td>\n",
       "      <td>Sun</td>\n",
       "      <td>Dinner</td>\n",
       "      <td>4</td>\n",
       "    </tr>\n",
       "  </tbody>\n",
       "</table>\n",
       "</div>"
      ],
      "text/plain": [
       "   total_bill   tip     sex smoker  day    time  size\n",
       "0       16.99  1.01  Female     No  Sun  Dinner     2\n",
       "1       10.34  1.66    Male     No  Sun  Dinner     3\n",
       "2       21.01  3.50    Male     No  Sun  Dinner     3\n",
       "3       23.68  3.31    Male     No  Sun  Dinner     2\n",
       "4       24.59  3.61  Female     No  Sun  Dinner     4"
      ]
     },
     "execution_count": 5,
     "metadata": {},
     "output_type": "execute_result"
    }
   ],
   "source": [
    "tips.head()"
   ]
  },
  {
   "cell_type": "code",
   "execution_count": 6,
   "metadata": {},
   "outputs": [
    {
     "name": "stdout",
     "output_type": "stream",
     "text": [
      "<class 'pandas.core.frame.DataFrame'>\n",
      "RangeIndex: 244 entries, 0 to 243\n",
      "Data columns (total 7 columns):\n",
      "total_bill    244 non-null float64\n",
      "tip           244 non-null float64\n",
      "sex           244 non-null category\n",
      "smoker        244 non-null category\n",
      "day           244 non-null category\n",
      "time          244 non-null category\n",
      "size          244 non-null int64\n",
      "dtypes: category(4), float64(2), int64(1)\n",
      "memory usage: 7.3 KB\n"
     ]
    }
   ],
   "source": [
    "tips.info()"
   ]
  },
  {
   "cell_type": "code",
   "execution_count": 7,
   "metadata": {},
   "outputs": [
    {
     "data": {
      "text/plain": [
       "(array([ 7., 42., 68., 51., 31., 19., 12.,  7.,  3.,  4.]),\n",
       " array([ 3.07 ,  7.844, 12.618, 17.392, 22.166, 26.94 , 31.714, 36.488,\n",
       "        41.262, 46.036, 50.81 ]),\n",
       " <a list of 10 Patch objects>)"
      ]
     },
     "execution_count": 7,
     "metadata": {},
     "output_type": "execute_result"
    },
    {
     "data": {
      "image/png": "[encoded data removed]",
      "text/plain": [
       "<Figure size 432x288 with 1 Axes>"
      ]
     },
     "metadata": {
      "needs_background": "light"
     },
     "output_type": "display_data"
    }
   ],
   "source": [
    "plt.hist(tips.total_bill)"
   ]
  },
  {
   "cell_type": "code",
   "execution_count": 8,
   "metadata": {},
   "outputs": [
    {
     "data": {
      "text/plain": [
       "(array([  4.,   0., 156.,   0.,  38.,   0.,  37.,   0.,   5.,   4.]),\n",
       " array([1. , 1.5, 2. , 2.5, 3. , 3.5, 4. , 4.5, 5. , 5.5, 6. ]),\n",
       " <a list of 10 Patch objects>)"
      ]
     },
     "execution_count": 8,
     "metadata": {},
     "output_type": "execute_result"
    },
    {
     "data": {
      "image/png": "[encoded data removed]",
      "text/plain": [
       "<Figure size 432x288 with 1 Axes>"
      ]
     },
     "metadata": {
      "needs_background": "light"
     },
     "output_type": "display_data"
    }
   ],
   "source": [
    "plt.hist(tips['size'])"
   ]
  },
  {
   "cell_type": "code",
   "execution_count": 9,
   "metadata": {},
   "outputs": [
    {
     "name": "stdout",
     "output_type": "stream",
     "text": [
      "Male      157\n",
      "Female     87\n",
      "Name: sex, dtype: int64\n",
      "Sat     87\n",
      "Sun     76\n",
      "Thur    62\n",
      "Fri     19\n",
      "Name: day, dtype: int64\n",
      "Dinner    176\n",
      "Lunch      68\n",
      "Name: time, dtype: int64\n",
      "[No, Yes]\n",
      "Categories (2, object): [No, Yes]\n"
     ]
    }
   ],
   "source": [
    "print(tips.sex.value_counts())\n",
    "print(tips.day.value_counts())\n",
    "print(tips.time.value_counts())\n",
    "print(tips.smoker.unique())"
   ]
  },
  {
   "cell_type": "markdown",
   "metadata": {},
   "source": [
    "### Prepare\n",
    "\n",
    "- get_dummies()  \n",
    "\n",
    "- remove_duplicates\n",
    "\n",
    "- create new target variable: low_tip\n",
    "\n",
    "- other new features/variables? "
   ]
  },
  {
   "cell_type": "code",
   "execution_count": 10,
   "metadata": {},
   "outputs": [],
   "source": [
    "tips = tips.drop_duplicates()"
   ]
  },
  {
   "cell_type": "code",
   "execution_count": 11,
   "metadata": {},
   "outputs": [],
   "source": [
    "tips_dummies = pd.get_dummies(tips[['sex', 'day', 'time', 'smoker']], drop_first=True)"
   ]
  },
  {
   "cell_type": "code",
   "execution_count": 12,
   "metadata": {},
   "outputs": [],
   "source": [
    "tips = pd.concat([tips, tips_dummies], axis=1)"
   ]
  },
  {
   "cell_type": "code",
   "execution_count": 13,
   "metadata": {},
   "outputs": [],
   "source": [
    "# create target variable: low_tip, defined as tip < 15% of total bill. \n",
    "tips['low_tip_target'] = tips.tip/tips.total_bill < .15"
   ]
  },
  {
   "cell_type": "code",
   "execution_count": 14,
   "metadata": {},
   "outputs": [],
   "source": [
    "# tips.columns\n",
    "cols_to_drop = ['tip', 'sex', 'smoker', 'day', 'time']\n",
    "tips.drop(columns=cols_to_drop, inplace = True)"
   ]
  },
  {
   "cell_type": "code",
   "execution_count": 15,
   "metadata": {},
   "outputs": [
    {
     "data": {
      "text/html": [
       "<div>\n",
       "<style scoped>\n",
       "    .dataframe tbody tr th:only-of-type {\n",
       "        vertical-align: middle;\n",
       "    }\n",
       "\n",
       "    .dataframe tbody tr th {\n",
       "        vertical-align: top;\n",
       "    }\n",
       "\n",
       "    .dataframe thead th {\n",
       "        text-align: right;\n",
       "    }\n",
       "</style>\n",
       "<table border=\"1\" class=\"dataframe\">\n",
       "  <thead>\n",
       "    <tr style=\"text-align: right;\">\n",
       "      <th></th>\n",
       "      <th>total_bill</th>\n",
       "      <th>size</th>\n",
       "      <th>sex_Female</th>\n",
       "      <th>day_Fri</th>\n",
       "      <th>day_Sat</th>\n",
       "      <th>day_Sun</th>\n",
       "      <th>time_Dinner</th>\n",
       "      <th>smoker_No</th>\n",
       "      <th>low_tip_target</th>\n",
       "    </tr>\n",
       "  </thead>\n",
       "  <tbody>\n",
       "    <tr>\n",
       "      <th>0</th>\n",
       "      <td>16.99</td>\n",
       "      <td>2</td>\n",
       "      <td>1</td>\n",
       "      <td>0</td>\n",
       "      <td>0</td>\n",
       "      <td>1</td>\n",
       "      <td>1</td>\n",
       "      <td>1</td>\n",
       "      <td>True</td>\n",
       "    </tr>\n",
       "    <tr>\n",
       "      <th>1</th>\n",
       "      <td>10.34</td>\n",
       "      <td>3</td>\n",
       "      <td>0</td>\n",
       "      <td>0</td>\n",
       "      <td>0</td>\n",
       "      <td>1</td>\n",
       "      <td>1</td>\n",
       "      <td>1</td>\n",
       "      <td>False</td>\n",
       "    </tr>\n",
       "    <tr>\n",
       "      <th>2</th>\n",
       "      <td>21.01</td>\n",
       "      <td>3</td>\n",
       "      <td>0</td>\n",
       "      <td>0</td>\n",
       "      <td>0</td>\n",
       "      <td>1</td>\n",
       "      <td>1</td>\n",
       "      <td>1</td>\n",
       "      <td>False</td>\n",
       "    </tr>\n",
       "    <tr>\n",
       "      <th>3</th>\n",
       "      <td>23.68</td>\n",
       "      <td>2</td>\n",
       "      <td>0</td>\n",
       "      <td>0</td>\n",
       "      <td>0</td>\n",
       "      <td>1</td>\n",
       "      <td>1</td>\n",
       "      <td>1</td>\n",
       "      <td>True</td>\n",
       "    </tr>\n",
       "    <tr>\n",
       "      <th>4</th>\n",
       "      <td>24.59</td>\n",
       "      <td>4</td>\n",
       "      <td>1</td>\n",
       "      <td>0</td>\n",
       "      <td>0</td>\n",
       "      <td>1</td>\n",
       "      <td>1</td>\n",
       "      <td>1</td>\n",
       "      <td>True</td>\n",
       "    </tr>\n",
       "  </tbody>\n",
       "</table>\n",
       "</div>"
      ],
      "text/plain": [
       "   total_bill  size  sex_Female  day_Fri  day_Sat  day_Sun  time_Dinner  \\\n",
       "0       16.99     2           1        0        0        1            1   \n",
       "1       10.34     3           0        0        0        1            1   \n",
       "2       21.01     3           0        0        0        1            1   \n",
       "3       23.68     2           0        0        0        1            1   \n",
       "4       24.59     4           1        0        0        1            1   \n",
       "\n",
       "   smoker_No  low_tip_target  \n",
       "0          1            True  \n",
       "1          1           False  \n",
       "2          1           False  \n",
       "3          1            True  \n",
       "4          1            True  "
      ]
     },
     "execution_count": 15,
     "metadata": {},
     "output_type": "execute_result"
    }
   ],
   "source": [
    "tips.head()"
   ]
  },
  {
   "cell_type": "markdown",
   "metadata": {},
   "source": [
    "### Split\n",
    "\n",
    "train, validate, test"
   ]
  },
  {
   "cell_type": "code",
   "execution_count": 17,
   "metadata": {},
   "outputs": [
    {
     "name": "stdout",
     "output_type": "stream",
     "text": [
      "1215 531 441\n"
     ]
    }
   ],
   "source": [
    "train_validate, test = train_test_split(tips, test_size=.2, random_state=123, \n",
    "                                        stratify=tips.low_tip_target)\n",
    "train, validate = train_test_split(train_validate, test_size=.3, random_state=123, \n",
    "                                   stratify=train_validate.low_tip_target)\n",
    "\n",
    "print(train.size, validate.size, test.size)"
   ]
  },
  {
   "cell_type": "markdown",
   "metadata": {},
   "source": [
    "### Set baseline"
   ]
  },
  {
   "cell_type": "code",
   "execution_count": 18,
   "metadata": {},
   "outputs": [
    {
     "data": {
      "text/plain": [
       "False    0.555556\n",
       "True     0.444444\n",
       "Name: low_tip_target, dtype: float64"
      ]
     },
     "execution_count": 18,
     "metadata": {},
     "output_type": "execute_result"
    }
   ],
   "source": [
    "train.low_tip_target.value_counts(normalize=True)"
   ]
  },
  {
   "cell_type": "markdown",
   "metadata": {},
   "source": [
    "If I were to predict that no one gives low tips, then I would be correct about 55% of the time. So, my baseline is 55% accuracy. "
   ]
  },
  {
   "cell_type": "markdown",
   "metadata": {},
   "source": [
    "### Model #1\n",
    "\n",
    "models vary in the following way:\n",
    "\n",
    "1. different hyperparameters (class_weight, C value, solver)\n",
    "2. different features (dropping party size feature, changing a feature)\n",
    "3. different algorithms (logistic regression, decision tree)\n",
    "\n",
    "Model 1: default options"
   ]
  },
  {
   "cell_type": "code",
   "execution_count": null,
   "metadata": {},
   "outputs": [],
   "source": [
    "help(LogisticRegression)"
   ]
  },
  {
   "cell_type": "markdown",
   "metadata": {},
   "source": [
    "Create the model object: giving the algorithm our requirements, our specific instructions. "
   ]
  },
  {
   "cell_type": "code",
   "execution_count": 19,
   "metadata": {},
   "outputs": [],
   "source": [
    "logit = LogisticRegression()"
   ]
  },
  {
   "cell_type": "markdown",
   "metadata": {},
   "source": [
    "Fit the algorithm to our training data. What is returned are the coefficients, or the weights for each feature. \n",
    "\n",
    "First, split each sample (train, validate, test) into an X dataframe and a y Series. "
   ]
  },
  {
   "cell_type": "code",
   "execution_count": 20,
   "metadata": {},
   "outputs": [],
   "source": [
    "X_train = train.drop(columns=['low_tip_target'])\n",
    "y_train = train.low_tip_target\n",
    "\n",
    "X_validate = validate.drop(columns=['low_tip_target'])\n",
    "y_validate = validate.low_tip_target\n",
    "\n",
    "X_test = test.drop(columns=['low_tip_target'])\n",
    "y_test = test.low_tip_target"
   ]
  },
  {
   "cell_type": "markdown",
   "metadata": {},
   "source": [
    "Now fit to X_train, y_train. "
   ]
  },
  {
   "cell_type": "code",
   "execution_count": 21,
   "metadata": {},
   "outputs": [
    {
     "name": "stderr",
     "output_type": "stream",
     "text": [
      "/Users/maggiegiust/anaconda3/lib/python3.6/site-packages/sklearn/linear_model/logistic.py:433: FutureWarning: Default solver will be changed to 'lbfgs' in 0.22. Specify a solver to silence this warning.\n",
      "  FutureWarning)\n"
     ]
    }
   ],
   "source": [
    "logit = logit.fit(X_train, y_train)"
   ]
  },
  {
   "cell_type": "code",
   "execution_count": 22,
   "metadata": {},
   "outputs": [
    {
     "name": "stdout",
     "output_type": "stream",
     "text": [
      "[[ 0.09707133 -0.246357   -0.25187821 -0.24045169 -0.11083115 -0.32760799\n",
      "  -0.3659257  -0.16550546]]\n",
      "[-0.88840318]\n"
     ]
    }
   ],
   "source": [
    "print(logit.coef_)\n",
    "\n",
    "print(logit.intercept_)"
   ]
  },
  {
   "cell_type": "code",
   "execution_count": 23,
   "metadata": {},
   "outputs": [
    {
     "data": {
      "text/plain": [
       "Index(['total_bill', 'size', 'sex_Female', 'day_Fri', 'day_Sat', 'day_Sun',\n",
       "       'time_Dinner', 'smoker_No'],\n",
       "      dtype='object')"
      ]
     },
     "execution_count": 23,
     "metadata": {},
     "output_type": "execute_result"
    }
   ],
   "source": [
    "X_train.columns"
   ]
  },
  {
   "cell_type": "markdown",
   "metadata": {},
   "source": [
    "Predict values on X_train. "
   ]
  },
  {
   "cell_type": "code",
   "execution_count": 24,
   "metadata": {},
   "outputs": [],
   "source": [
    "y_pred = logit.predict(X_train)\n",
    "y_pred_proba = logit.predict_proba(X_train)"
   ]
  },
  {
   "cell_type": "code",
   "execution_count": 25,
   "metadata": {},
   "outputs": [
    {
     "data": {
      "text/plain": [
       "array([[0.68743352, 0.31256648],\n",
       "       [0.63276455, 0.36723545],\n",
       "       [0.69282576, 0.30717424],\n",
       "       [0.15281713, 0.84718287],\n",
       "       [0.47027427, 0.52972573],\n",
       "       [0.53085895, 0.46914105],\n",
       "       [0.73326143, 0.26673857],\n",
       "       [0.70565267, 0.29434733],\n",
       "       [0.80133264, 0.19866736],\n",
       "       [0.42800687, 0.57199313],\n",
       "       [0.21241013, 0.78758987],\n",
       "       [0.49885568, 0.50114432],\n",
       "       [0.34060228, 0.65939772],\n",
       "       [0.19479536, 0.80520464],\n",
       "       [0.46614861, 0.53385139],\n",
       "       [0.37799968, 0.62200032],\n",
       "       [0.49063468, 0.50936532],\n",
       "       [0.20932849, 0.79067151],\n",
       "       [0.59888785, 0.40111215],\n",
       "       [0.64268813, 0.35731187],\n",
       "       [0.82712489, 0.17287511],\n",
       "       [0.62652062, 0.37347938],\n",
       "       [0.6046651 , 0.3953349 ],\n",
       "       [0.64757717, 0.35242283],\n",
       "       [0.61986835, 0.38013165],\n",
       "       [0.6929123 , 0.3070877 ],\n",
       "       [0.25165976, 0.74834024],\n",
       "       [0.67382486, 0.32617514],\n",
       "       [0.69233137, 0.30766863],\n",
       "       [0.65357144, 0.34642856],\n",
       "       [0.65176579, 0.34823421],\n",
       "       [0.80040711, 0.19959289],\n",
       "       [0.14292885, 0.85707115],\n",
       "       [0.46965059, 0.53034941],\n",
       "       [0.70214477, 0.29785523],\n",
       "       [0.64514468, 0.35485532],\n",
       "       [0.30477495, 0.69522505],\n",
       "       [0.55072956, 0.44927044],\n",
       "       [0.56998334, 0.43001666],\n",
       "       [0.68237137, 0.31762863],\n",
       "       [0.63304234, 0.36695766],\n",
       "       [0.63697339, 0.36302661],\n",
       "       [0.7252832 , 0.2747168 ],\n",
       "       [0.85013301, 0.14986699],\n",
       "       [0.4432848 , 0.5567152 ],\n",
       "       [0.68282658, 0.31717342],\n",
       "       [0.59092872, 0.40907128],\n",
       "       [0.57945685, 0.42054315],\n",
       "       [0.35411411, 0.64588589],\n",
       "       [0.40268149, 0.59731851],\n",
       "       [0.52055356, 0.47944644],\n",
       "       [0.77612639, 0.22387361],\n",
       "       [0.56260154, 0.43739846],\n",
       "       [0.41988055, 0.58011945],\n",
       "       [0.73553356, 0.26446644],\n",
       "       [0.68125946, 0.31874054],\n",
       "       [0.69233579, 0.30766421],\n",
       "       [0.57286949, 0.42713051],\n",
       "       [0.66338915, 0.33661085],\n",
       "       [0.58618976, 0.41381024],\n",
       "       [0.55600289, 0.44399711],\n",
       "       [0.36627183, 0.63372817],\n",
       "       [0.75623805, 0.24376195],\n",
       "       [0.74124828, 0.25875172],\n",
       "       [0.7036223 , 0.2963777 ],\n",
       "       [0.31084821, 0.68915179],\n",
       "       [0.45781674, 0.54218326],\n",
       "       [0.75148385, 0.24851615],\n",
       "       [0.64133929, 0.35866071],\n",
       "       [0.56082856, 0.43917144],\n",
       "       [0.10251937, 0.89748063],\n",
       "       [0.39222081, 0.60777919],\n",
       "       [0.63893617, 0.36106383],\n",
       "       [0.24619756, 0.75380244],\n",
       "       [0.11093981, 0.88906019],\n",
       "       [0.22987939, 0.77012061],\n",
       "       [0.4569879 , 0.5430121 ],\n",
       "       [0.59324576, 0.40675424],\n",
       "       [0.39599325, 0.60400675],\n",
       "       [0.56037585, 0.43962415],\n",
       "       [0.30709553, 0.69290447],\n",
       "       [0.69457919, 0.30542081],\n",
       "       [0.48843635, 0.51156365],\n",
       "       [0.6561681 , 0.3438319 ],\n",
       "       [0.39837492, 0.60162508],\n",
       "       [0.66681818, 0.33318182],\n",
       "       [0.67133164, 0.32866836],\n",
       "       [0.40651521, 0.59348479],\n",
       "       [0.58453709, 0.41546291],\n",
       "       [0.59069963, 0.40930037],\n",
       "       [0.76221563, 0.23778437],\n",
       "       [0.54050738, 0.45949262],\n",
       "       [0.48335938, 0.51664062],\n",
       "       [0.51490219, 0.48509781],\n",
       "       [0.62971275, 0.37028725],\n",
       "       [0.20765919, 0.79234081],\n",
       "       [0.74957525, 0.25042475],\n",
       "       [0.75724114, 0.24275886],\n",
       "       [0.53627539, 0.46372461],\n",
       "       [0.6345071 , 0.3654929 ],\n",
       "       [0.10198472, 0.89801528],\n",
       "       [0.41514572, 0.58485428],\n",
       "       [0.44316531, 0.55683469],\n",
       "       [0.53945512, 0.46054488],\n",
       "       [0.65607165, 0.34392835],\n",
       "       [0.71020529, 0.28979471],\n",
       "       [0.67839719, 0.32160281],\n",
       "       [0.11314254, 0.88685746],\n",
       "       [0.69905304, 0.30094696],\n",
       "       [0.76714312, 0.23285688],\n",
       "       [0.42925944, 0.57074056],\n",
       "       [0.41453193, 0.58546807],\n",
       "       [0.68816282, 0.31183718],\n",
       "       [0.492467  , 0.507533  ],\n",
       "       [0.63983211, 0.36016789],\n",
       "       [0.63995143, 0.36004857],\n",
       "       [0.37580163, 0.62419837],\n",
       "       [0.48538095, 0.51461905],\n",
       "       [0.62147265, 0.37852735],\n",
       "       [0.51741382, 0.48258618],\n",
       "       [0.31741346, 0.68258654],\n",
       "       [0.74682819, 0.25317181],\n",
       "       [0.69113738, 0.30886262],\n",
       "       [0.81655367, 0.18344633],\n",
       "       [0.63235655, 0.36764345],\n",
       "       [0.5788909 , 0.4211091 ],\n",
       "       [0.70644846, 0.29355154],\n",
       "       [0.37810865, 0.62189135],\n",
       "       [0.71980433, 0.28019567],\n",
       "       [0.37614352, 0.62385648],\n",
       "       [0.6359816 , 0.3640184 ],\n",
       "       [0.81499449, 0.18500551],\n",
       "       [0.68906548, 0.31093452],\n",
       "       [0.42839654, 0.57160346],\n",
       "       [0.51025494, 0.48974506]])"
      ]
     },
     "execution_count": 25,
     "metadata": {},
     "output_type": "execute_result"
    }
   ],
   "source": [
    "y_pred_proba"
   ]
  },
  {
   "cell_type": "code",
   "execution_count": 26,
   "metadata": {},
   "outputs": [
    {
     "data": {
      "text/plain": [
       "0.6888888888888889"
      ]
     },
     "execution_count": 26,
     "metadata": {},
     "output_type": "execute_result"
    }
   ],
   "source": [
    "# accuracy\n",
    "logit.score(X_train, y_train)"
   ]
  },
  {
   "cell_type": "code",
   "execution_count": 27,
   "metadata": {},
   "outputs": [
    {
     "name": "stdout",
     "output_type": "stream",
     "text": [
      "[[60 15]\n",
      " [27 33]]\n"
     ]
    }
   ],
   "source": [
    "# confusion matrix\n",
    "\n",
    "print(confusion_matrix(y_train, y_pred))"
   ]
  },
  {
   "cell_type": "code",
   "execution_count": 28,
   "metadata": {},
   "outputs": [
    {
     "name": "stdout",
     "output_type": "stream",
     "text": [
      "              precision    recall  f1-score   support\n",
      "\n",
      "       False       0.69      0.80      0.74        75\n",
      "        True       0.69      0.55      0.61        60\n",
      "\n",
      "   micro avg       0.69      0.69      0.69       135\n",
      "   macro avg       0.69      0.68      0.68       135\n",
      "weighted avg       0.69      0.69      0.68       135\n",
      "\n"
     ]
    }
   ],
   "source": [
    "# classification report\n",
    "print(classification_report(y_train, y_pred))"
   ]
  },
  {
   "cell_type": "code",
   "execution_count": 29,
   "metadata": {},
   "outputs": [],
   "source": [
    "# harmonic mean reciprocal of the average of the reciprocals \n"
   ]
  },
  {
   "cell_type": "markdown",
   "metadata": {},
   "source": [
    "With an accuracy of 68%, our model is better than our baseline. So we should continue to try a couple other models, and then quickly decide on the best. "
   ]
  },
  {
   "cell_type": "markdown",
   "metadata": {},
   "source": [
    "### Model #2\n",
    "\n",
    "Change C to be very low"
   ]
  },
  {
   "cell_type": "code",
   "execution_count": 30,
   "metadata": {},
   "outputs": [
    {
     "name": "stderr",
     "output_type": "stream",
     "text": [
      "/Users/maggiegiust/anaconda3/lib/python3.6/site-packages/sklearn/linear_model/logistic.py:433: FutureWarning: Default solver will be changed to 'lbfgs' in 0.22. Specify a solver to silence this warning.\n",
      "  FutureWarning)\n"
     ]
    },
    {
     "data": {
      "text/plain": [
       "array([[ 4.95009600e-04, -1.09417370e-04, -6.11594911e-05,\n",
       "        -5.21367403e-06, -2.11281485e-05, -5.11450672e-05,\n",
       "        -7.24831132e-05, -6.70154139e-05]])"
      ]
     },
     "execution_count": 30,
     "metadata": {},
     "output_type": "execute_result"
    }
   ],
   "source": [
    "logit2 = LogisticRegression(C=.00001)\n",
    "\n",
    "logit2.fit(X_train, y_train)\n",
    "\n",
    "logit2.coef_"
   ]
  },
  {
   "cell_type": "code",
   "execution_count": 31,
   "metadata": {},
   "outputs": [],
   "source": [
    "y_pred = logit2.predict(X_train)\n",
    "y_pred_proba = logit2.predict_proba(X_train)"
   ]
  },
  {
   "cell_type": "code",
   "execution_count": 32,
   "metadata": {},
   "outputs": [
    {
     "data": {
      "text/plain": [
       "0.4444444444444444"
      ]
     },
     "execution_count": 32,
     "metadata": {},
     "output_type": "execute_result"
    }
   ],
   "source": [
    "# evaluate\n",
    "\n",
    "logit2.score(X_train, y_train)"
   ]
  },
  {
   "cell_type": "code",
   "execution_count": 33,
   "metadata": {},
   "outputs": [
    {
     "name": "stdout",
     "output_type": "stream",
     "text": [
      "              precision    recall  f1-score   support\n",
      "\n",
      "       False       0.00      0.00      0.00        75\n",
      "        True       0.44      1.00      0.62        60\n",
      "\n",
      "   micro avg       0.44      0.44      0.44       135\n",
      "   macro avg       0.22      0.50      0.31       135\n",
      "weighted avg       0.20      0.44      0.27       135\n",
      "\n"
     ]
    },
    {
     "name": "stderr",
     "output_type": "stream",
     "text": [
      "/Users/maggiegiust/anaconda3/lib/python3.6/site-packages/sklearn/metrics/classification.py:1143: UndefinedMetricWarning: Precision and F-score are ill-defined and being set to 0.0 in labels with no predicted samples.\n",
      "  'precision', 'predicted', average, warn_for)\n"
     ]
    }
   ],
   "source": [
    "print(classification_report(y_train, y_pred))"
   ]
  },
  {
   "cell_type": "markdown",
   "metadata": {},
   "source": [
    "### Model #3"
   ]
  },
  {
   "cell_type": "code",
   "execution_count": 35,
   "metadata": {},
   "outputs": [
    {
     "name": "stdout",
     "output_type": "stream",
     "text": [
      "[[ 0.10295872 -0.19684497 -0.22717192 -0.6042164  -0.48745261 -0.76853872\n",
      "   0.03540357 -0.12113024]]\n",
      "[[ 0.09707133 -0.246357   -0.25187821 -0.24045169 -0.11083115 -0.32760799\n",
      "  -0.3659257  -0.16550546]]\n",
      "0.6518518518518519\n"
     ]
    },
    {
     "name": "stderr",
     "output_type": "stream",
     "text": [
      "/Users/maggiegiust/anaconda3/lib/python3.6/site-packages/sklearn/linear_model/logistic.py:433: FutureWarning: Default solver will be changed to 'lbfgs' in 0.22. Specify a solver to silence this warning.\n",
      "  FutureWarning)\n"
     ]
    }
   ],
   "source": [
    "logit3 = LogisticRegression(C=10000)\n",
    "\n",
    "logit3 = logit3.fit(X_train, y_train)\n",
    "\n",
    "print(logit3.coef_)\n",
    "print(logit.coef_)\n",
    "print(logit3.score(X_train, y_train))"
   ]
  },
  {
   "cell_type": "code",
   "execution_count": 36,
   "metadata": {},
   "outputs": [],
   "source": [
    "y_pred3 = logit3.predict(X_train)"
   ]
  },
  {
   "cell_type": "code",
   "execution_count": 37,
   "metadata": {},
   "outputs": [
    {
     "name": "stdout",
     "output_type": "stream",
     "text": [
      "[[58 17]\n",
      " [30 30]]\n"
     ]
    }
   ],
   "source": [
    "\n",
    "print(confusion_matrix(y_train, y_pred3))"
   ]
  },
  {
   "cell_type": "code",
   "execution_count": 38,
   "metadata": {},
   "outputs": [
    {
     "name": "stdout",
     "output_type": "stream",
     "text": [
      "              precision    recall  f1-score   support\n",
      "\n",
      "       False       0.66      0.77      0.71        75\n",
      "        True       0.64      0.50      0.56        60\n",
      "\n",
      "   micro avg       0.65      0.65      0.65       135\n",
      "   macro avg       0.65      0.64      0.64       135\n",
      "weighted avg       0.65      0.65      0.64       135\n",
      "\n"
     ]
    }
   ],
   "source": [
    "print(classification_report(y_train, y_pred3))"
   ]
  },
  {
   "cell_type": "markdown",
   "metadata": {},
   "source": [
    "### Evaluate Models #1 and #3 on Validate Sample"
   ]
  },
  {
   "cell_type": "code",
   "execution_count": 39,
   "metadata": {},
   "outputs": [],
   "source": [
    "y_pred1 = logit.predict(X_validate)\n",
    "y_pred3 = logit3.predict(X_validate)"
   ]
  },
  {
   "cell_type": "code",
   "execution_count": 40,
   "metadata": {},
   "outputs": [
    {
     "name": "stdout",
     "output_type": "stream",
     "text": [
      "model 1\n",
      " 0.6271186440677966\n",
      "model 3\n",
      " 0.6440677966101694\n"
     ]
    }
   ],
   "source": [
    "print(\"model 1\\n\", logit.score(X_validate, y_validate))\n",
    "print(\"model 3\\n\", logit3.score(X_validate, y_validate))"
   ]
  },
  {
   "cell_type": "code",
   "execution_count": 41,
   "metadata": {},
   "outputs": [
    {
     "name": "stdout",
     "output_type": "stream",
     "text": [
      "model 1\n",
      " [[26  7]\n",
      " [15 11]]\n",
      "model 3\n",
      " [[26  7]\n",
      " [14 12]]\n"
     ]
    }
   ],
   "source": [
    "print(\"model 1\\n\", confusion_matrix(y_validate, y_pred1))\n",
    "\n",
    "print(\"model 3\\n\", confusion_matrix(y_validate, y_pred3))"
   ]
  },
  {
   "cell_type": "code",
   "execution_count": 42,
   "metadata": {},
   "outputs": [
    {
     "name": "stdout",
     "output_type": "stream",
     "text": [
      "model 1\n",
      "               precision    recall  f1-score   support\n",
      "\n",
      "       False       0.63      0.79      0.70        33\n",
      "        True       0.61      0.42      0.50        26\n",
      "\n",
      "   micro avg       0.63      0.63      0.63        59\n",
      "   macro avg       0.62      0.61      0.60        59\n",
      "weighted avg       0.62      0.63      0.61        59\n",
      "\n",
      "model 3\n",
      "               precision    recall  f1-score   support\n",
      "\n",
      "       False       0.65      0.79      0.71        33\n",
      "        True       0.63      0.46      0.53        26\n",
      "\n",
      "   micro avg       0.64      0.64      0.64        59\n",
      "   macro avg       0.64      0.62      0.62        59\n",
      "weighted avg       0.64      0.64      0.63        59\n",
      "\n"
     ]
    }
   ],
   "source": [
    "print(\"model 1\\n\", classification_report(y_validate, y_pred1))\n",
    "\n",
    "print(\"model 3\\n\", classification_report(y_validate, y_pred3))"
   ]
  },
  {
   "cell_type": "markdown",
   "metadata": {},
   "source": [
    "### Evaluate our best model on Test\n",
    "\n",
    "We want to estimate how it would perform on new unseen data. We want to see how generalizable the model is, i.e. is it fit to our specific sample or is it modeling the population. "
   ]
  },
  {
   "cell_type": "code",
   "execution_count": 43,
   "metadata": {},
   "outputs": [
    {
     "name": "stdout",
     "output_type": "stream",
     "text": [
      "0.5510204081632653\n",
      "[[20  7]\n",
      " [15  7]]\n",
      "              precision    recall  f1-score   support\n",
      "\n",
      "       False       0.57      0.74      0.65        27\n",
      "        True       0.50      0.32      0.39        22\n",
      "\n",
      "   micro avg       0.55      0.55      0.55        49\n",
      "   macro avg       0.54      0.53      0.52        49\n",
      "weighted avg       0.54      0.55      0.53        49\n",
      "\n"
     ]
    }
   ],
   "source": [
    "y_pred = logit3.predict(X_test)\n",
    "y_pred_proba = logit3.predict_proba(X_test)\n",
    "\n",
    "accuracy = logit3.score(X_test, y_test)\n",
    "print(accuracy)\n",
    "\n",
    "print(confusion_matrix(y_test, y_pred))\n",
    "print(classification_report(y_test, y_pred))"
   ]
  },
  {
   "cell_type": "code",
   "execution_count": 46,
   "metadata": {},
   "outputs": [],
   "source": [
    "y_pred_proba = np.array([i[1] for i in y_pred_proba])"
   ]
  },
  {
   "cell_type": "code",
   "execution_count": 49,
   "metadata": {},
   "outputs": [
    {
     "data": {
      "text/plain": [
       "<matplotlib.collections.PathCollection at 0x7f8aee0c1080>"
      ]
     },
     "execution_count": 49,
     "metadata": {},
     "output_type": "execute_result"
    },
    {
     "data": {
      "image/png": "[encoded data removed]",
      "text/plain": [
       "<Figure size 432x288 with 1 Axes>"
      ]
     },
     "metadata": {
      "needs_background": "light"
     },
     "output_type": "display_data"
    }
   ],
   "source": [
    "plt.scatter(y_pred_proba, y_test, c=y_pred)\n",
    "\n",
    "# sns.scatterplot(y_pred_proba, y_test, hue=)"
   ]
  },
  {
   "cell_type": "code",
   "execution_count": 50,
   "metadata": {},
   "outputs": [
    {
     "data": {
      "text/plain": [
       "array([[ 0.10295872, -0.19684497, -0.22717192, -0.6042164 , -0.48745261,\n",
       "        -0.76853872,  0.03540357, -0.12113024]])"
      ]
     },
     "execution_count": 50,
     "metadata": {},
     "output_type": "execute_result"
    }
   ],
   "source": [
    "logit3.coef_"
   ]
  },
  {
   "cell_type": "code",
   "execution_count": 51,
   "metadata": {},
   "outputs": [
    {
     "data": {
      "text/plain": [
       "Index(['total_bill', 'size', 'sex_Female', 'day_Fri', 'day_Sat', 'day_Sun',\n",
       "       'time_Dinner', 'smoker_No'],\n",
       "      dtype='object')"
      ]
     },
     "execution_count": 51,
     "metadata": {},
     "output_type": "execute_result"
    }
   ],
   "source": [
    "X_test.columns"
   ]
  },
  {
   "cell_type": "code",
   "execution_count": 53,
   "metadata": {},
   "outputs": [
    {
     "data": {
      "text/plain": [
       "day_Sun       -0.768539\n",
       "day_Fri       -0.604216\n",
       "day_Sat       -0.487453\n",
       "sex_Female    -0.227172\n",
       "size          -0.196845\n",
       "smoker_No     -0.121130\n",
       "time_Dinner    0.035404\n",
       "total_bill     0.102959\n",
       "dtype: float64"
      ]
     },
     "execution_count": 53,
     "metadata": {},
     "output_type": "execute_result"
    }
   ],
   "source": [
    "pd.Series(dict(zip(X_test.columns, logit3.coef_[0]))).sort_values()"
   ]
  },
  {
   "cell_type": "code",
   "execution_count": null,
   "metadata": {},
   "outputs": [],
   "source": []
  }
 ],
 "metadata": {
  "kernelspec": {
   "display_name": "Python 3",
   "language": "python",
   "name": "python3"
  },
  "language_info": {
   "codemirror_mode": {
    "name": "ipython",
    "version": 3
   },
   "file_extension": ".py",
   "mimetype": "text/x-python",
   "name": "python",
   "nbconvert_exporter": "python",
   "pygments_lexer": "ipython3",
   "version": "3.6.8"
  }
 },
 "nbformat": 4,
 "nbformat_minor": 2
}
